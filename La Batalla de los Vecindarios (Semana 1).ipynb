{
 "cells": [
  {
   "cell_type": "markdown",
   "metadata": {
    "collapsed": true
   },
   "source": [
    "Proyecto Final Batalla de los Vecindarios\n",
    "\n",
    "Definición del Problema Comercial:\n",
    "Después de la Pandema, se ha observado que muchos han empezado a moverse de las grandes ciudades a hacia ciudades mas pequeñas en busqueda de sitios mas tranquilos gracias a la posibilidad del trabajo virtual.\n",
    "\n",
    "Por eso un grupo de inversionistas quieren hacer un estudio en la Costa Atlántica Argentina para determinar la ciudad con mayor potencial para desarrollar en un proyecto inmobiliario.\n",
    "\n",
    "Datos:\n",
    "Los datos necesarios para este analisis son:\n",
    "\n",
    "Acceso a Internet fijo por tecnología y Localidad:\n",
    "Detalle del acceso de Internet y velocidades promedio de Internet fijo por localidad proporcionadas por la ENACOM, ente regularor de Telecomunicaciones de Argentina en el siguiente enlace: https://datosabiertos.enacom.gob.ar/dashboards/20000/acceso-a-internet/\n",
    "\n",
    "Localidades balnearias de la Costa Atlántica:\n",
    "Las ciudades balnearias mas importantes de la Costa Atlantica y una lista del top 10 por población según el censo del año 2016, ya que son las ciudades con mas infraestructura son tentativamente la mejor opcion para tener en cuenta en el lugar deseado para invertir, datos obtenidos de Wikipedia según el Censo 2016. https://es.wikipedia.org/wiki/Localidades_balnearias_del_mar_Argentino\n",
    "\n",
    "Coordenadas geograficas de la Costa Atlántica:\n",
    "Datos geográficos de Argentina y de los lugares mas populares de las 10 ciudades mas representativas poblacionalmente de la costa, los cuales seriviran para tener una mayor idea en que ciudades conviene desarrollar el proyecto, datos obtenidos de la pagina Foursquare. https://es.foursquare.com/developers/projects"
   ]
  }
 ],
 "metadata": {
  "kernelspec": {
   "display_name": "Python 3.10",
   "language": "python",
   "name": "python3"
  },
  "language_info": {
   "codemirror_mode": {
    "name": "ipython",
    "version": 3
   },
   "file_extension": ".py",
   "mimetype": "text/x-python",
   "name": "python",
   "nbconvert_exporter": "python",
   "pygments_lexer": "ipython3",
   "version": "3.10.9"
  }
 },
 "nbformat": 4,
 "nbformat_minor": 1
}
